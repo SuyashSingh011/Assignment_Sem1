{
 "cells": [
  {
   "cell_type": "code",
   "execution_count": 3,
   "id": "190db2aa",
   "metadata": {},
   "outputs": [],
   "source": [
    "import pandas as pd"
   ]
  },
  {
   "cell_type": "code",
   "execution_count": 6,
   "id": "88bfdd62",
   "metadata": {},
   "outputs": [],
   "source": [
    "olympics_df = pd.read_csv('Olympics.csv')\n"
   ]
  },
  {
   "cell_type": "code",
   "execution_count": 7,
   "id": "2b7f7508",
   "metadata": {},
   "outputs": [],
   "source": [
    "all_records = olympics_df\n"
   ]
  },
  {
   "cell_type": "code",
   "execution_count": 8,
   "id": "c6d1c206",
   "metadata": {},
   "outputs": [],
   "source": [
    "athlete_medals = olympics_df[['name', 'medal']]\n"
   ]
  },
  {
   "cell_type": "code",
   "execution_count": 9,
   "id": "5255d171",
   "metadata": {},
   "outputs": [
    {
     "name": "stdout",
     "output_type": "stream",
     "text": [
      "Total number of athletes: 35\n"
     ]
    }
   ],
   "source": [
    "total_athletes = olympics_df['name'].nunique()\n",
    "print(f\"Total number of athletes: {total_athletes}\")\n"
   ]
  },
  {
   "cell_type": "code",
   "execution_count": 10,
   "id": "2434f369",
   "metadata": {},
   "outputs": [],
   "source": [
    "gold_medalists = olympics_df[olympics_df['medal'] == 'Gold']\n"
   ]
  },
  {
   "cell_type": "code",
   "execution_count": 11,
   "id": "ebb4af1a",
   "metadata": {},
   "outputs": [],
   "source": [
    "silver_medalists = olympics_df[olympics_df['medal'] == 'Silver'].sort_values('year')\n"
   ]
  },
  {
   "cell_type": "code",
   "execution_count": 24,
   "id": "5a584400",
   "metadata": {},
   "outputs": [
    {
     "name": "stdout",
     "output_type": "stream",
     "text": [
      "medal  Bronze  Gold  Silver\n",
      "noc                        \n",
      "DEN         0     1       0\n",
      "FIN         5     3       0\n",
      "NED         1     0       1\n",
      "NOR         2     5       3\n"
     ]
    }
   ],
   "source": [
    "medals_by_country = olympics_df.groupby(['noc', 'medal']).size().unstack(fill_value=0)\n",
    "medals_by_country = medals_by_country.rename(columns={0: 'Bronze', 1: 'Gold', 2: 'Silver'})\n",
    "print(medals_by_country)\n"
   ]
  },
  {
   "cell_type": "code",
   "execution_count": 35,
   "id": "99e0c55b",
   "metadata": {},
   "outputs": [
    {
     "name": "stdout",
     "output_type": "stream",
     "text": [
      "    id                       name sex  age  height  weight            team  \\\n",
      "3    4       Edgar Lindenau Aabye   M   34     NaN     NaN  Denmark/Sweden   \n",
      "42  17    Paavo Johannes Aaltonen   M   28   175.0    64.0         Finland   \n",
      "44  17    Paavo Johannes Aaltonen   M   28   175.0    64.0         Finland   \n",
      "48  17    Paavo Johannes Aaltonen   M   28   175.0    64.0         Finland   \n",
      "60  20         Kjetil Andr Aamodt   M   20   176.0    85.0          Norway   \n",
      "73  20         Kjetil Andr Aamodt   M   30   176.0    85.0          Norway   \n",
      "76  20         Kjetil Andr Aamodt   M   30   176.0    85.0          Norway   \n",
      "78  20         Kjetil Andr Aamodt   M   34   176.0    85.0          Norway   \n",
      "79  21  Ragnhild Margrethe Aamodt   F   27   163.0     NaN          Norway   \n",
      "\n",
      "    noc        games  year  season            city          sport  \\\n",
      "3   DEN  1900 Summer  1900  Summer           Paris     Tug-Of-War   \n",
      "42  FIN  1948 Summer  1948  Summer          London     Gymnastics   \n",
      "44  FIN  1948 Summer  1948  Summer          London     Gymnastics   \n",
      "48  FIN  1948 Summer  1948  Summer          London     Gymnastics   \n",
      "60  NOR  1992 Winter  1992  Winter     Albertville  Alpine Skiing   \n",
      "73  NOR  2002 Winter  2002  Winter  Salt Lake City  Alpine Skiing   \n",
      "76  NOR  2002 Winter  2002  Winter  Salt Lake City  Alpine Skiing   \n",
      "78  NOR  2006 Winter  2006  Winter          Torino  Alpine Skiing   \n",
      "79  NOR  2008 Summer  2008  Summer         Beijing       Handball   \n",
      "\n",
      "                               event medal  \n",
      "3        Tug-Of-War Men's Tug-Of-War  Gold  \n",
      "42  Gymnastics Men's Team All-Around  Gold  \n",
      "44      Gymnastics Men's Horse Vault  Gold  \n",
      "48  Gymnastics Men's Pommelled Horse  Gold  \n",
      "60       Alpine Skiing Men's Super G  Gold  \n",
      "73       Alpine Skiing Men's Super G  Gold  \n",
      "76      Alpine Skiing Men's Combined  Gold  \n",
      "78       Alpine Skiing Men's Super G  Gold  \n",
      "79         Handball Women's Handball  Gold  \n"
     ]
    }
   ],
   "source": [
    "df_g = olympics_df[olympics_df['medal'] == 'Gold']\n",
    "print(df_g)"
   ]
  },
  {
   "cell_type": "code",
   "execution_count": 36,
   "id": "90fa9aee",
   "metadata": {},
   "outputs": [
    {
     "name": "stdout",
     "output_type": "stream",
     "text": [
      "3          Edgar Lindenau Aabye\n",
      "42      Paavo Johannes Aaltonen\n",
      "44      Paavo Johannes Aaltonen\n",
      "48      Paavo Johannes Aaltonen\n",
      "60           Kjetil Andr Aamodt\n",
      "73           Kjetil Andr Aamodt\n",
      "76           Kjetil Andr Aamodt\n",
      "78           Kjetil Andr Aamodt\n",
      "79    Ragnhild Margrethe Aamodt\n",
      "Name: name, dtype: object\n"
     ]
    }
   ],
   "source": [
    "print(df_g['name'])\n"
   ]
  },
  {
   "cell_type": "code",
   "execution_count": 17,
   "id": "b2eba340",
   "metadata": {},
   "outputs": [
    {
     "name": "stdout",
     "output_type": "stream",
     "text": [
      "Athlete with the most medals: Kjetil Andr Aamodt\n"
     ]
    }
   ],
   "source": [
    "athlete_medal_counts = olympics_df.groupby('name')['medal'].count().sort_values(ascending=False)\n",
    "top_medalist = athlete_medal_counts.index[0]\n",
    "print(f\"Athlete with the most medals: {top_medalist}\")\n"
   ]
  },
  {
   "cell_type": "code",
   "execution_count": 18,
   "id": "3e9a0d5e",
   "metadata": {},
   "outputs": [
    {
     "name": "stdout",
     "output_type": "stream",
     "text": [
      "[\"Swimming Men's 400 metres Freestyle\"]\n"
     ]
    }
   ],
   "source": [
    "freestyle_events = olympics_df[olympics_df['event'].str.contains('Freestyle', case=False)]\n",
    "print(freestyle_events['event'].unique())\n"
   ]
  },
  {
   "cell_type": "code",
   "execution_count": 19,
   "id": "8de000e3",
   "metadata": {},
   "outputs": [
    {
     "name": "stdout",
     "output_type": "stream",
     "text": [
      "                   sport                                  name  medal\n",
      "0          Alpine Skiing                    Kjetil Andr Aamodt      8\n",
      "1       Art Competitions                 Win Valdemar Aaltonen      0\n",
      "2              Athletics  Cornelia \\Cor\\\" Aalten (-Strannood)\"      0\n",
      "3              Athletics                     Evald rma (rman-)      0\n",
      "4              Athletics    Jamale (Djamel-) Aarrass (Ahrass-)      0\n",
      "7              Badminton                     Jyri Tapani Aalto      0\n",
      "8             Basketball                             A Dijiang      0\n",
      "9               Biathlon        Pirjo Hannele Aalto (Mattila-)      0\n",
      "10             Bobsleigh                Dagfinn Sverre Aarskog      0\n",
      "11  Cross Country Skiing                          John Aalberg      0\n",
      "12  Cross Country Skiing                    Jorma Ilmari Aalto      0\n",
      "13  Cross Country Skiing                       Per Knut Aaland      0\n",
      "14              Football                   Gunnar Nielsen Aaby      0\n",
      "16            Gymnastics               Paavo Johannes Aaltonen      5\n",
      "15            Gymnastics                      Alf Lied Aanning      1\n",
      "17              Handball             Ragnhild Margrethe Aamodt      1\n",
      "18                Hockey                  Willemien Aardenburg      1\n",
      "20            Ice Hockey              Juhamatti Tapio Aaltonen      1\n",
      "19            Ice Hockey                      Antti Sami Aalto      0\n",
      "21                  Judo                              A Lamusi      0\n",
      "22                  Luge          Agnes Erika Aanonsen (-Eyde)      0\n",
      "23                Rowing                      Pepijn Aardewijn      1\n",
      "24               Sailing                      Jan-Erik Aarberg      0\n",
      "25               Sailing                   Mika Lauri Aarnikka      0\n",
      "26               Sailing                    Minna Maarit Aalto      0\n",
      "27         Speed Skating              Christine Jacoba Aaftink      0\n",
      "28         Speed Skating                      Nils Egil Aaness      0\n",
      "29              Swimming                  Arvo Ossian Aaltonen      2\n",
      "30              Swimming      Einar Ferdinand \\Einari\\\" Aalto\"      0\n",
      "31            Tug-Of-War                  Edgar Lindenau Aabye      1\n",
      "32            Water Polo                         Johan Aantjes      0\n",
      "33         Weightlifting                         Andreea Aanei      0\n",
      "34             Wrestling                           Fritz Aanes      0\n"
     ]
    }
   ],
   "source": [
    "top_athletes_by_sport = olympics_df.groupby(['sport', 'name'])['medal'].count().reset_index().sort_values(['sport', 'medal'], ascending=[True, False]).groupby('sport').head(3)\n",
    "print(top_athletes_by_sport)\n"
   ]
  },
  {
   "cell_type": "code",
   "execution_count": 20,
   "id": "2e038636",
   "metadata": {},
   "outputs": [
    {
     "name": "stdout",
     "output_type": "stream",
     "text": [
      "    year                     name  medal\n",
      "4   1920     Arvo Ossian Aaltonen      2\n",
      "9   1948  Paavo Johannes Aaltonen      4\n",
      "25  1992       Kjetil Andr Aamodt      2\n",
      "30  1994       Kjetil Andr Aamodt      3\n",
      "44  2002       Kjetil Andr Aamodt      2\n"
     ]
    }
   ],
   "source": [
    "multiple_medalists = olympics_df.groupby(['year', 'name'])['medal'].count().reset_index()[olympics_df.groupby(['year', 'name'])['medal'].count().reset_index()['medal'] > 1]\n",
    "print(multiple_medalists)\n"
   ]
  },
  {
   "cell_type": "code",
   "execution_count": 26,
   "id": "666b883e",
   "metadata": {},
   "outputs": [
    {
     "name": "stdout",
     "output_type": "stream",
     "text": [
      "Countries with Gold medals in both Summer and Winter Olympics: NOR\n"
     ]
    }
   ],
   "source": [
    "summer_gold = olympics_df[(olympics_df['season'] == 'Summer') & (olympics_df['medal'] == 'Gold')]['noc'].unique()\n",
    "winter_gold = olympics_df[(olympics_df['season'] == 'Winter') & (olympics_df['medal'] == 'Gold')]['noc'].unique()\n",
    "dual_season_gold = list(set(summer_gold) & set(winter_gold))\n",
    "print(f\"Countries with Gold medals in both Summer and Winter Olympics: {', '.join(dual_season_gold)}\")\n"
   ]
  },
  {
   "cell_type": "code",
   "execution_count": 27,
   "id": "d3bcc583",
   "metadata": {},
   "outputs": [
    {
     "name": "stdout",
     "output_type": "stream",
     "text": [
      "   noc   min   max  year_diff\n",
      "0  CHN  1992  2012         20\n",
      "1  DEN  1900  1920         20\n",
      "2  EST  1936  1936          0\n",
      "3  FIN  1912  2014        102\n",
      "4  FRA  2012  2012          0\n",
      "5  NED  1932  2000         68\n",
      "6  NOR  1912  2008         96\n",
      "7  ROU  2016  2016          0\n",
      "8  USA  1992  1994          2\n"
     ]
    }
   ],
   "source": [
    "first_last_year = olympics_df.groupby('noc')['year'].agg(['min', 'max']).reset_index()\n",
    "first_last_year['year_diff'] = first_last_year['max'] - first_last_year['min']\n",
    "print(first_last_year)\n"
   ]
  },
  {
   "cell_type": "code",
   "execution_count": 29,
   "id": "db5a774c",
   "metadata": {},
   "outputs": [
    {
     "name": "stdout",
     "output_type": "stream",
     "text": [
      "   noc     medal\n",
      "0  CHN  0.000000\n",
      "1  DEN  0.500000\n",
      "2  EST  0.000000\n",
      "3  FIN  0.666667\n",
      "4  FRA  0.000000\n",
      "5  NED  0.400000\n",
      "6  NOR  1.111111\n",
      "7  ROU  0.000000\n",
      "8  USA  0.000000\n"
     ]
    }
   ],
   "source": [
    "avg_medals_per_athlete = olympics_df.groupby(['noc', 'name'])['medal'].count().reset_index().groupby('noc')['medal'].mean().reset_index()\n",
    "print(avg_medals_per_athlete)"
   ]
  },
  {
   "cell_type": "markdown",
   "id": "4a34ffbc",
   "metadata": {},
   "source": [
    "Find athletes who won medals in three consecutive Olympic games in the same event\n",
    "\n"
   ]
  },
  {
   "cell_type": "code",
   "execution_count": 38,
   "id": "0cbb24b8",
   "metadata": {},
   "outputs": [
    {
     "name": "stdout",
     "output_type": "stream",
     "text": [
      "['John Aalberg' 'Kjetil Andr Aamodt' 'Paavo Johannes Aaltonen'\n",
      " 'Per Knut Aaland']\n"
     ]
    }
   ],
   "source": [
    "df_t = olympics_df.groupby(['name', 'sport', 'year']).size()\n",
    "dft_t = df_t[df_t >= 3].reset_index()['name'].unique()\n",
    "print(dft_t)"
   ]
  },
  {
   "cell_type": "code",
   "execution_count": null,
   "id": "6062abd8",
   "metadata": {},
   "outputs": [],
   "source": []
  }
 ],
 "metadata": {
  "kernelspec": {
   "display_name": "Python 3 (ipykernel)",
   "language": "python",
   "name": "python3"
  },
  "language_info": {
   "codemirror_mode": {
    "name": "ipython",
    "version": 3
   },
   "file_extension": ".py",
   "mimetype": "text/x-python",
   "name": "python",
   "nbconvert_exporter": "python",
   "pygments_lexer": "ipython3",
   "version": "3.11.5"
  }
 },
 "nbformat": 4,
 "nbformat_minor": 5
}
